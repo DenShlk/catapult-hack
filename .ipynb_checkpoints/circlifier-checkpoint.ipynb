{
 "cells": [
  {
   "cell_type": "code",
   "execution_count": null,
   "id": "931e6b64",
   "metadata": {},
   "outputs": [],
   "source": [
    "!pip install opencv-python cairocffi"
   ]
  },
  {
   "cell_type": "code",
   "execution_count": null,
   "id": "a9954df4",
   "metadata": {},
   "outputs": [],
   "source": [
    "!pip install pipwin"
   ]
  },
  {
   "cell_type": "code",
   "execution_count": null,
   "id": "cdc9212d",
   "metadata": {},
   "outputs": [],
   "source": [
    "!pipwin install cairocffi"
   ]
  },
  {
   "cell_type": "code",
   "execution_count": 10,
   "id": "57eea7a4",
   "metadata": {},
   "outputs": [
    {
     "name": "stderr",
     "output_type": "stream",
     "text": [
      "ERROR: Could not find a version that satisfies the requirement taichi (from versions: none)\n",
      "ERROR: No matching distribution found for taichi\n"
     ]
    }
   ],
   "source": [
    "!pip install taichi"
   ]
  },
  {
   "cell_type": "code",
   "execution_count": null,
   "id": "66b819e2",
   "metadata": {},
   "outputs": [],
   "source": [
    "import cv2\n",
    "import cairocffi as cairo\n",
    "import numpy as np\n",
    "\n",
    "import taichi as ti\n",
    "ti.init(arch=ti.cpu)\n",
    "\n",
    "\n",
    "scale = 5\n",
    "\n",
    "@ti.dataclass\n",
    "class Circle:\n",
    "    x : int\n",
    "    y : int\n",
    "    r : int\n",
    "\n",
    "circles = Circle.field()\n",
    "ti.root.dynamic(ti.i, 100000, chunk_size=64).place(circles)\n",
    "\n",
    "\n",
    "def load_image(imgfile):\n",
    "    image = cv2.imread(imgfile)\n",
    "    h, w = image.shape[:2]\n",
    "    image = cv2.resize(\n",
    "        image, (int(scale * w), int(scale * h)),\n",
    "        interpolation=cv2.INTER_AREA\n",
    "    )\n",
    "    return cv2.cvtColor(image, cv2.COLOR_BGR2RGB)\n",
    "\n",
    "\n",
    "def get_dist_transform_image(image):\n",
    "    canny = cv2.Canny(image, 100, 200)\n",
    "    edges_inv = 255 - canny\n",
    "    dist_image = cv2.distanceTransform(edges_inv, cv2.DIST_L2, 0)\n",
    "    return dist_image\n",
    "\n",
    "\n",
    "@ti.kernel\n",
    "def add_new_circles(filled: ti.types.ndarray(),\n",
    "                    dist_image: ti.types.ndarray(),\n",
    "                    min_radius: int, max_radius: int) -> int:\n",
    "    H, W = dist_image.shape[0], dist_image.shape[1]\n",
    "    ti.loop_config(serialize=True)\n",
    "    for x in range(min_radius, W - min_radius):\n",
    "        for y in range(min_radius, H - min_radius):\n",
    "            valid = True\n",
    "            if dist_image[y, x] > min_radius:\n",
    "                r = int((dist_image[y, x] + 1) / 2)\n",
    "                r = ti.min(r, max_radius)\n",
    "                if not filled[y, x] and r <= x < W - r and r <= y < H - r:\n",
    "                    for ii in range(x - r, x + r + 1):\n",
    "                        for jj in range(y - r, y + r + 1):\n",
    "                            if (ii - x) ** 2 + (jj - y)**2 < (r + 1) ** 2:\n",
    "                                if filled[jj, ii]:\n",
    "                                    valid = False\n",
    "                                    break\n",
    "                        if not valid:\n",
    "                            break\n",
    "\n",
    "                    if valid:\n",
    "                        circles.append(Circle(x, y, r))\n",
    "                        for ii in range(x - r, x + r + 1):\n",
    "                            for jj in range(y - r, y + r + 1):\n",
    "                                if (ii - x)**2 + (jj - y)**2 < (r + 1)**2:\n",
    "                                    filled[jj, ii] = 1\n",
    "\n",
    "    return circles.length()\n",
    "\n",
    "\n",
    "def plot_cirlces(image, ctx, n):\n",
    "    for i in range(n):\n",
    "        c = circles[i]\n",
    "        fc = image[c.y, c.x] / 255\n",
    "        if all(fc < 0.1):\n",
    "            ec = (0.5, 0.5, 0.5)\n",
    "        else:\n",
    "            ec = (0, 0, 0)\n",
    "        ctx.arc(c.x, c.y, c.r, 0, 2*np.pi)\n",
    "        ctx.set_source_rgb(*fc)\n",
    "        ctx.fill_preserve()\n",
    "        ctx.set_source_rgba(*ec)\n",
    "        ctx.stroke()\n",
    "\n",
    "\n",
    "def main(imgfile):\n",
    "    image = load_image(imgfile)\n",
    "    dist_image = get_dist_transform_image(image)\n",
    "    image = cv2.GaussianBlur(image, (5, 5), 0)\n",
    "    H, W = image.shape[:2]\n",
    "    surface = cairo.ImageSurface(cairo.FORMAT_ARGB32, W, H)\n",
    "    ctx = cairo.Context(surface)\n",
    "    ctx.set_source_rgb(0, 0, 0)\n",
    "    ctx.paint()\n",
    "\n",
    "    filled = np.zeros([H, W], dtype=np.int32)\n",
    "    R = [150, 120, 100, 80, 50, 30, 25, 20, 15, 10, 7, 5, 3, 2]\n",
    "    for i in range(1, len(R)):\n",
    "        n = add_new_circles(filled, dist_image, R[i], R[i - 1])\n",
    "\n",
    "    ctx.set_line_width(1)\n",
    "    plot_cirlces(image, ctx, n)\n",
    "    surface.write_to_png(\"circle_packing_result.png\")\n",
    "\n",
    "\n",
    "if __name__ == '__main__':\n",
    "    main(\"input.png\")"
   ]
  },
  {
   "cell_type": "code",
   "execution_count": null,
   "id": "31a2a314",
   "metadata": {},
   "outputs": [],
   "source": []
  }
 ],
 "metadata": {
  "kernelspec": {
   "display_name": "Python 3 (ipykernel)",
   "language": "python",
   "name": "python3"
  },
  "language_info": {
   "codemirror_mode": {
    "name": "ipython",
    "version": 3
   },
   "file_extension": ".py",
   "mimetype": "text/x-python",
   "name": "python",
   "nbconvert_exporter": "python",
   "pygments_lexer": "ipython3",
   "version": "3.11.2"
  }
 },
 "nbformat": 4,
 "nbformat_minor": 5
}
